{
 "cells": [
  {
   "cell_type": "code",
   "execution_count": 1,
   "id": "98d177ee-5ff7-4a21-9958-d9d111abdd5e",
   "metadata": {},
   "outputs": [],
   "source": [
    "import numpy as np\n",
    "import pandas as pd"
   ]
  },
  {
   "cell_type": "code",
   "execution_count": 2,
   "id": "069306a5-b756-42b7-9a3a-423e8e4a61af",
   "metadata": {},
   "outputs": [
    {
     "data": {
      "text/html": [
       "<div>\n",
       "<style scoped>\n",
       "    .dataframe tbody tr th:only-of-type {\n",
       "        vertical-align: middle;\n",
       "    }\n",
       "\n",
       "    .dataframe tbody tr th {\n",
       "        vertical-align: top;\n",
       "    }\n",
       "\n",
       "    .dataframe thead th {\n",
       "        text-align: right;\n",
       "    }\n",
       "</style>\n",
       "<table border=\"1\" class=\"dataframe\">\n",
       "  <thead>\n",
       "    <tr style=\"text-align: right;\">\n",
       "      <th></th>\n",
       "      <th>Date</th>\n",
       "      <th>country</th>\n",
       "      <th>province</th>\n",
       "      <th>Confirmed</th>\n",
       "      <th>Recovered</th>\n",
       "      <th>Deaths</th>\n",
       "    </tr>\n",
       "  </thead>\n",
       "  <tbody>\n",
       "    <tr>\n",
       "      <th>0</th>\n",
       "      <td>2020-01-22</td>\n",
       "      <td>Australia</td>\n",
       "      <td>Australian Capital Territory</td>\n",
       "      <td>0</td>\n",
       "      <td>0.0</td>\n",
       "      <td>0</td>\n",
       "    </tr>\n",
       "    <tr>\n",
       "      <th>1</th>\n",
       "      <td>2020-01-23</td>\n",
       "      <td>Australia</td>\n",
       "      <td>Australian Capital Territory</td>\n",
       "      <td>0</td>\n",
       "      <td>0.0</td>\n",
       "      <td>0</td>\n",
       "    </tr>\n",
       "    <tr>\n",
       "      <th>2</th>\n",
       "      <td>2020-01-24</td>\n",
       "      <td>Australia</td>\n",
       "      <td>Australian Capital Territory</td>\n",
       "      <td>0</td>\n",
       "      <td>0.0</td>\n",
       "      <td>0</td>\n",
       "    </tr>\n",
       "    <tr>\n",
       "      <th>3</th>\n",
       "      <td>2020-01-25</td>\n",
       "      <td>Australia</td>\n",
       "      <td>Australian Capital Territory</td>\n",
       "      <td>0</td>\n",
       "      <td>0.0</td>\n",
       "      <td>0</td>\n",
       "    </tr>\n",
       "    <tr>\n",
       "      <th>4</th>\n",
       "      <td>2020-01-26</td>\n",
       "      <td>Australia</td>\n",
       "      <td>Australian Capital Territory</td>\n",
       "      <td>0</td>\n",
       "      <td>0.0</td>\n",
       "      <td>0</td>\n",
       "    </tr>\n",
       "    <tr>\n",
       "      <th>...</th>\n",
       "      <td>...</td>\n",
       "      <td>...</td>\n",
       "      <td>...</td>\n",
       "      <td>...</td>\n",
       "      <td>...</td>\n",
       "      <td>...</td>\n",
       "    </tr>\n",
       "    <tr>\n",
       "      <th>59563</th>\n",
       "      <td>2022-04-12</td>\n",
       "      <td>United Kingdom</td>\n",
       "      <td>Turks and Caicos Islands</td>\n",
       "      <td>5923</td>\n",
       "      <td>0.0</td>\n",
       "      <td>36</td>\n",
       "    </tr>\n",
       "    <tr>\n",
       "      <th>59564</th>\n",
       "      <td>2022-04-13</td>\n",
       "      <td>United Kingdom</td>\n",
       "      <td>Turks and Caicos Islands</td>\n",
       "      <td>5936</td>\n",
       "      <td>0.0</td>\n",
       "      <td>36</td>\n",
       "    </tr>\n",
       "    <tr>\n",
       "      <th>59565</th>\n",
       "      <td>2022-04-14</td>\n",
       "      <td>United Kingdom</td>\n",
       "      <td>Turks and Caicos Islands</td>\n",
       "      <td>5936</td>\n",
       "      <td>0.0</td>\n",
       "      <td>36</td>\n",
       "    </tr>\n",
       "    <tr>\n",
       "      <th>59566</th>\n",
       "      <td>2022-04-15</td>\n",
       "      <td>United Kingdom</td>\n",
       "      <td>Turks and Caicos Islands</td>\n",
       "      <td>5936</td>\n",
       "      <td>0.0</td>\n",
       "      <td>36</td>\n",
       "    </tr>\n",
       "    <tr>\n",
       "      <th>59567</th>\n",
       "      <td>2022-04-16</td>\n",
       "      <td>United Kingdom</td>\n",
       "      <td>Turks and Caicos Islands</td>\n",
       "      <td>5936</td>\n",
       "      <td>0.0</td>\n",
       "      <td>36</td>\n",
       "    </tr>\n",
       "  </tbody>\n",
       "</table>\n",
       "<p>59568 rows × 6 columns</p>\n",
       "</div>"
      ],
      "text/plain": [
       "             Date         country                      province  Confirmed  \\\n",
       "0      2020-01-22       Australia  Australian Capital Territory          0   \n",
       "1      2020-01-23       Australia  Australian Capital Territory          0   \n",
       "2      2020-01-24       Australia  Australian Capital Territory          0   \n",
       "3      2020-01-25       Australia  Australian Capital Territory          0   \n",
       "4      2020-01-26       Australia  Australian Capital Territory          0   \n",
       "...           ...             ...                           ...        ...   \n",
       "59563  2022-04-12  United Kingdom      Turks and Caicos Islands       5923   \n",
       "59564  2022-04-13  United Kingdom      Turks and Caicos Islands       5936   \n",
       "59565  2022-04-14  United Kingdom      Turks and Caicos Islands       5936   \n",
       "59566  2022-04-15  United Kingdom      Turks and Caicos Islands       5936   \n",
       "59567  2022-04-16  United Kingdom      Turks and Caicos Islands       5936   \n",
       "\n",
       "       Recovered  Deaths  \n",
       "0            0.0       0  \n",
       "1            0.0       0  \n",
       "2            0.0       0  \n",
       "3            0.0       0  \n",
       "4            0.0       0  \n",
       "...          ...     ...  \n",
       "59563        0.0      36  \n",
       "59564        0.0      36  \n",
       "59565        0.0      36  \n",
       "59566        0.0      36  \n",
       "59567        0.0      36  \n",
       "\n",
       "[59568 rows x 6 columns]"
      ]
     },
     "execution_count": 2,
     "metadata": {},
     "output_type": "execute_result"
    }
   ],
   "source": [
    "dataset = pd.read_csv(\"dataset/dataset_covid.csv\")\n",
    "dataset"
   ]
  },
  {
   "cell_type": "code",
   "execution_count": 3,
   "id": "842129b0-bdb3-41c7-9caf-675d635731d2",
   "metadata": {},
   "outputs": [],
   "source": [
    "dataset.dropna(inplace=True)"
   ]
  },
  {
   "cell_type": "code",
   "execution_count": 4,
   "id": "a5096498-7dd9-42e2-911c-d6bbb2df2567",
   "metadata": {},
   "outputs": [
    {
     "data": {
      "text/html": [
       "<div>\n",
       "<style scoped>\n",
       "    .dataframe tbody tr th:only-of-type {\n",
       "        vertical-align: middle;\n",
       "    }\n",
       "\n",
       "    .dataframe tbody tr th {\n",
       "        vertical-align: top;\n",
       "    }\n",
       "\n",
       "    .dataframe thead th {\n",
       "        text-align: right;\n",
       "    }\n",
       "</style>\n",
       "<table border=\"1\" class=\"dataframe\">\n",
       "  <thead>\n",
       "    <tr style=\"text-align: right;\">\n",
       "      <th></th>\n",
       "      <th>Date</th>\n",
       "      <th>country</th>\n",
       "      <th>province</th>\n",
       "      <th>Confirmed</th>\n",
       "      <th>Recovered</th>\n",
       "      <th>Deaths</th>\n",
       "    </tr>\n",
       "  </thead>\n",
       "  <tbody>\n",
       "    <tr>\n",
       "      <th>0</th>\n",
       "      <td>2020-01-22</td>\n",
       "      <td>Australia</td>\n",
       "      <td>Australian Capital Territory</td>\n",
       "      <td>0</td>\n",
       "      <td>0.0</td>\n",
       "      <td>0</td>\n",
       "    </tr>\n",
       "    <tr>\n",
       "      <th>1</th>\n",
       "      <td>2020-01-23</td>\n",
       "      <td>Australia</td>\n",
       "      <td>Australian Capital Territory</td>\n",
       "      <td>0</td>\n",
       "      <td>0.0</td>\n",
       "      <td>0</td>\n",
       "    </tr>\n",
       "    <tr>\n",
       "      <th>2</th>\n",
       "      <td>2020-01-24</td>\n",
       "      <td>Australia</td>\n",
       "      <td>Australian Capital Territory</td>\n",
       "      <td>0</td>\n",
       "      <td>0.0</td>\n",
       "      <td>0</td>\n",
       "    </tr>\n",
       "    <tr>\n",
       "      <th>3</th>\n",
       "      <td>2020-01-25</td>\n",
       "      <td>Australia</td>\n",
       "      <td>Australian Capital Territory</td>\n",
       "      <td>0</td>\n",
       "      <td>0.0</td>\n",
       "      <td>0</td>\n",
       "    </tr>\n",
       "    <tr>\n",
       "      <th>4</th>\n",
       "      <td>2020-01-26</td>\n",
       "      <td>Australia</td>\n",
       "      <td>Australian Capital Territory</td>\n",
       "      <td>0</td>\n",
       "      <td>0.0</td>\n",
       "      <td>0</td>\n",
       "    </tr>\n",
       "    <tr>\n",
       "      <th>...</th>\n",
       "      <td>...</td>\n",
       "      <td>...</td>\n",
       "      <td>...</td>\n",
       "      <td>...</td>\n",
       "      <td>...</td>\n",
       "      <td>...</td>\n",
       "    </tr>\n",
       "    <tr>\n",
       "      <th>59563</th>\n",
       "      <td>2022-04-12</td>\n",
       "      <td>United Kingdom</td>\n",
       "      <td>Turks and Caicos Islands</td>\n",
       "      <td>5923</td>\n",
       "      <td>0.0</td>\n",
       "      <td>36</td>\n",
       "    </tr>\n",
       "    <tr>\n",
       "      <th>59564</th>\n",
       "      <td>2022-04-13</td>\n",
       "      <td>United Kingdom</td>\n",
       "      <td>Turks and Caicos Islands</td>\n",
       "      <td>5936</td>\n",
       "      <td>0.0</td>\n",
       "      <td>36</td>\n",
       "    </tr>\n",
       "    <tr>\n",
       "      <th>59565</th>\n",
       "      <td>2022-04-14</td>\n",
       "      <td>United Kingdom</td>\n",
       "      <td>Turks and Caicos Islands</td>\n",
       "      <td>5936</td>\n",
       "      <td>0.0</td>\n",
       "      <td>36</td>\n",
       "    </tr>\n",
       "    <tr>\n",
       "      <th>59566</th>\n",
       "      <td>2022-04-15</td>\n",
       "      <td>United Kingdom</td>\n",
       "      <td>Turks and Caicos Islands</td>\n",
       "      <td>5936</td>\n",
       "      <td>0.0</td>\n",
       "      <td>36</td>\n",
       "    </tr>\n",
       "    <tr>\n",
       "      <th>59567</th>\n",
       "      <td>2022-04-16</td>\n",
       "      <td>United Kingdom</td>\n",
       "      <td>Turks and Caicos Islands</td>\n",
       "      <td>5936</td>\n",
       "      <td>0.0</td>\n",
       "      <td>36</td>\n",
       "    </tr>\n",
       "  </tbody>\n",
       "</table>\n",
       "<p>59568 rows × 6 columns</p>\n",
       "</div>"
      ],
      "text/plain": [
       "             Date         country                      province  Confirmed  \\\n",
       "0      2020-01-22       Australia  Australian Capital Territory          0   \n",
       "1      2020-01-23       Australia  Australian Capital Territory          0   \n",
       "2      2020-01-24       Australia  Australian Capital Territory          0   \n",
       "3      2020-01-25       Australia  Australian Capital Territory          0   \n",
       "4      2020-01-26       Australia  Australian Capital Territory          0   \n",
       "...           ...             ...                           ...        ...   \n",
       "59563  2022-04-12  United Kingdom      Turks and Caicos Islands       5923   \n",
       "59564  2022-04-13  United Kingdom      Turks and Caicos Islands       5936   \n",
       "59565  2022-04-14  United Kingdom      Turks and Caicos Islands       5936   \n",
       "59566  2022-04-15  United Kingdom      Turks and Caicos Islands       5936   \n",
       "59567  2022-04-16  United Kingdom      Turks and Caicos Islands       5936   \n",
       "\n",
       "       Recovered  Deaths  \n",
       "0            0.0       0  \n",
       "1            0.0       0  \n",
       "2            0.0       0  \n",
       "3            0.0       0  \n",
       "4            0.0       0  \n",
       "...          ...     ...  \n",
       "59563        0.0      36  \n",
       "59564        0.0      36  \n",
       "59565        0.0      36  \n",
       "59566        0.0      36  \n",
       "59567        0.0      36  \n",
       "\n",
       "[59568 rows x 6 columns]"
      ]
     },
     "execution_count": 4,
     "metadata": {},
     "output_type": "execute_result"
    }
   ],
   "source": [
    "dataset"
   ]
  },
  {
   "cell_type": "code",
   "execution_count": 5,
   "id": "79305c56-e424-4c2e-b4fb-dce72cd25db3",
   "metadata": {},
   "outputs": [
    {
     "name": "stdout",
     "output_type": "stream",
     "text": [
      "<class 'pandas.core.frame.DataFrame'>\n",
      "RangeIndex: 59568 entries, 0 to 59567\n",
      "Data columns (total 6 columns):\n",
      " #   Column     Non-Null Count  Dtype  \n",
      "---  ------     --------------  -----  \n",
      " 0   Date       59568 non-null  object \n",
      " 1   country    59568 non-null  object \n",
      " 2   province   59568 non-null  object \n",
      " 3   Confirmed  59568 non-null  int64  \n",
      " 4   Recovered  59568 non-null  float64\n",
      " 5   Deaths     59568 non-null  int64  \n",
      "dtypes: float64(1), int64(2), object(3)\n",
      "memory usage: 2.7+ MB\n"
     ]
    }
   ],
   "source": [
    "dataset.info()"
   ]
  },
  {
   "cell_type": "code",
   "execution_count": 6,
   "id": "580a261f-ccf0-4968-a590-47c978176cce",
   "metadata": {},
   "outputs": [],
   "source": [
    "dataset.to_csv(\"dataset_covid.csv\", index=False)"
   ]
  },
  {
   "cell_type": "code",
   "execution_count": 7,
   "id": "c36cb6a4-4801-4cdd-99c5-da6a90b6cfc3",
   "metadata": {},
   "outputs": [
    {
     "data": {
      "text/plain": [
       "array(['Australia', 'China', 'Denmark', 'France', 'Netherlands',\n",
       "       'New Zealand', 'United Kingdom'], dtype=object)"
      ]
     },
     "execution_count": 7,
     "metadata": {},
     "output_type": "execute_result"
    }
   ],
   "source": [
    "dataset[\"country\"].unique()"
   ]
  },
  {
   "cell_type": "code",
   "execution_count": 8,
   "id": "7e99f032-414e-4446-863f-09a2230d1c31",
   "metadata": {},
   "outputs": [],
   "source": [
    "dataset.Date = pd.to_datetime(dataset.Date, format=\"%Y-%m-%d\")"
   ]
  },
  {
   "cell_type": "code",
   "execution_count": 9,
   "id": "528a76be-8f60-4a49-b529-0ef0aec0fafc",
   "metadata": {},
   "outputs": [],
   "source": [
    "data_aus = dataset.query(\"country == 'Australia'\")"
   ]
  },
  {
   "cell_type": "code",
   "execution_count": 10,
   "id": "e4971fa3-8bee-46d8-abc5-fba51b2b7ef1",
   "metadata": {},
   "outputs": [
    {
     "data": {
      "text/plain": [
       "array(['Australian Capital Territory', 'New South Wales',\n",
       "       'Northern Territory', 'Queensland', 'South Australia', 'Tasmania',\n",
       "       'Victoria', 'Western Australia'], dtype=object)"
      ]
     },
     "execution_count": 10,
     "metadata": {},
     "output_type": "execute_result"
    }
   ],
   "source": [
    "data_aus.province.unique()"
   ]
  },
  {
   "cell_type": "code",
   "execution_count": 11,
   "id": "dd67117f-9632-4c92-b2a9-8e9931e05b9f",
   "metadata": {},
   "outputs": [],
   "source": [
    "data_ch = dataset.query(\"country == 'China'\")"
   ]
  },
  {
   "cell_type": "code",
   "execution_count": 12,
   "id": "aea378f3-2048-4347-a4a3-2598f7132905",
   "metadata": {},
   "outputs": [
    {
     "data": {
      "text/plain": [
       "array(['Anhui', 'Beijing', 'Chongqing', 'Fujian', 'Gansu', 'Guangdong',\n",
       "       'Guangxi', 'Guizhou', 'Hainan', 'Hebei', 'Heilongjiang', 'Henan',\n",
       "       'Hong Kong', 'Hubei', 'Hunan', 'Inner Mongolia', 'Jiangsu',\n",
       "       'Jiangxi', 'Jilin', 'Liaoning', 'Macau', 'Ningxia', 'Qinghai',\n",
       "       'Shaanxi', 'Shandong', 'Shanghai', 'Shanxi', 'Sichuan', 'Tianjin',\n",
       "       'Tibet', 'Unknown', 'Xinjiang', 'Yunnan', 'Zhejiang'], dtype=object)"
      ]
     },
     "execution_count": 12,
     "metadata": {},
     "output_type": "execute_result"
    }
   ],
   "source": [
    "data_ch.province.unique()"
   ]
  },
  {
   "cell_type": "code",
   "execution_count": 13,
   "id": "20531a77-82cd-4970-aef5-c1b326dc52a2",
   "metadata": {},
   "outputs": [],
   "source": [
    "data_den = dataset.query(\"country == 'Denmark'\")"
   ]
  },
  {
   "cell_type": "code",
   "execution_count": 14,
   "id": "64026103-3896-4e3a-b320-1d0fa092b339",
   "metadata": {},
   "outputs": [
    {
     "data": {
      "text/plain": [
       "array(['Faroe Islands', 'Greenland'], dtype=object)"
      ]
     },
     "execution_count": 14,
     "metadata": {},
     "output_type": "execute_result"
    }
   ],
   "source": [
    "data_den.province.unique()"
   ]
  },
  {
   "cell_type": "code",
   "execution_count": 15,
   "id": "99a76172-a983-43ef-bc70-ba0778d82377",
   "metadata": {},
   "outputs": [],
   "source": [
    "data_fr = dataset.query(\"country == 'France'\")"
   ]
  },
  {
   "cell_type": "code",
   "execution_count": 16,
   "id": "2c734a57-d8a3-418f-b9e8-ec05c4edfa85",
   "metadata": {},
   "outputs": [
    {
     "data": {
      "text/plain": [
       "array(['French Guiana', 'French Polynesia', 'Guadeloupe', 'Martinique',\n",
       "       'Mayotte', 'New Caledonia', 'Reunion', 'Saint Barthelemy',\n",
       "       'Saint Pierre and Miquelon', 'St Martin', 'Wallis and Futuna'],\n",
       "      dtype=object)"
      ]
     },
     "execution_count": 16,
     "metadata": {},
     "output_type": "execute_result"
    }
   ],
   "source": [
    "data_fr.province.unique()"
   ]
  },
  {
   "cell_type": "code",
   "execution_count": 17,
   "id": "9af39c1c-edbd-4c78-8629-4eabb1a5daf0",
   "metadata": {},
   "outputs": [],
   "source": [
    "data_net = dataset.query(\"country == 'Netherlands'\")"
   ]
  },
  {
   "cell_type": "code",
   "execution_count": 18,
   "id": "1d6013e5-8127-4165-ac9c-a8958c9033d9",
   "metadata": {},
   "outputs": [
    {
     "data": {
      "text/plain": [
       "array(['Aruba', 'Bonaire, Sint Eustatius and Saba', 'Curacao',\n",
       "       'Sint Maarten'], dtype=object)"
      ]
     },
     "execution_count": 18,
     "metadata": {},
     "output_type": "execute_result"
    }
   ],
   "source": [
    "data_net.province.unique()"
   ]
  },
  {
   "cell_type": "code",
   "execution_count": 19,
   "id": "962b3c7c-b433-4891-a9fd-0e7219a58204",
   "metadata": {},
   "outputs": [],
   "source": [
    "data_nz = dataset.query(\"country == 'New Zealand'\")"
   ]
  },
  {
   "cell_type": "code",
   "execution_count": 20,
   "id": "0244c783-6ab8-4e61-9047-8e1e75d1eff0",
   "metadata": {},
   "outputs": [
    {
     "data": {
      "text/plain": [
       "array(['Cook Islands'], dtype=object)"
      ]
     },
     "execution_count": 20,
     "metadata": {},
     "output_type": "execute_result"
    }
   ],
   "source": [
    "data_nz.province.unique()"
   ]
  },
  {
   "cell_type": "code",
   "execution_count": 21,
   "id": "e1f75bf7-e586-4cbe-b287-df84237ae484",
   "metadata": {},
   "outputs": [],
   "source": [
    "data_uk = dataset.query(\"country == 'United Kingdom'\")"
   ]
  },
  {
   "cell_type": "code",
   "execution_count": 22,
   "id": "3a8e30e4-f4c4-4baf-a21a-4121d9171e23",
   "metadata": {},
   "outputs": [
    {
     "data": {
      "text/plain": [
       "array(['Anguilla', 'Bermuda', 'British Virgin Islands', 'Cayman Islands',\n",
       "       'Channel Islands', 'Falkland Islands (Malvinas)', 'Gibraltar',\n",
       "       'Guernsey', 'Isle of Man', 'Jersey', 'Montserrat',\n",
       "       'Saint Helena, Ascension and Tristan da Cunha',\n",
       "       'Turks and Caicos Islands'], dtype=object)"
      ]
     },
     "execution_count": 22,
     "metadata": {},
     "output_type": "execute_result"
    }
   ],
   "source": [
    "data_uk.province.unique()"
   ]
  },
  {
   "cell_type": "code",
   "execution_count": 23,
   "id": "20a18990-0be5-43a9-9512-9e4eeb7e1838",
   "metadata": {},
   "outputs": [
    {
     "data": {
      "text/plain": [
       "(10608, 6)"
      ]
     },
     "execution_count": 23,
     "metadata": {},
     "output_type": "execute_result"
    }
   ],
   "source": [
    "data_uk.shape"
   ]
  },
  {
   "cell_type": "code",
   "execution_count": 24,
   "id": "03f68669-21e5-4d6a-8459-6b593647d6d4",
   "metadata": {},
   "outputs": [
    {
     "data": {
      "text/plain": [
       "province\n",
       "Anguilla                                        816\n",
       "Bermuda                                         816\n",
       "British Virgin Islands                          816\n",
       "Cayman Islands                                  816\n",
       "Channel Islands                                 816\n",
       "Falkland Islands (Malvinas)                     816\n",
       "Gibraltar                                       816\n",
       "Guernsey                                        816\n",
       "Isle of Man                                     816\n",
       "Jersey                                          816\n",
       "Montserrat                                      816\n",
       "Saint Helena, Ascension and Tristan da Cunha    816\n",
       "Turks and Caicos Islands                        816\n",
       "Name: country, dtype: int64"
      ]
     },
     "execution_count": 24,
     "metadata": {},
     "output_type": "execute_result"
    }
   ],
   "source": [
    "data_uk.groupby(\"province\").country.count()"
   ]
  },
  {
   "cell_type": "code",
   "execution_count": 25,
   "id": "eaca933f-dd2f-4c93-a1ff-b61a9ec01a50",
   "metadata": {},
   "outputs": [
    {
     "data": {
      "text/plain": [
       "816"
      ]
     },
     "execution_count": 25,
     "metadata": {},
     "output_type": "execute_result"
    }
   ],
   "source": [
    "len(dataset.query(\"province == 'Unknown'\"))"
   ]
  },
  {
   "cell_type": "code",
   "execution_count": 26,
   "id": "965992e4-e401-4586-8fe7-a5bb140d0d30",
   "metadata": {},
   "outputs": [],
   "source": [
    "dataset = dataset.drop(dataset[dataset['province'] == 'Unknown'].index)"
   ]
  },
  {
   "cell_type": "code",
   "execution_count": 27,
   "id": "d75d526a-5d67-4a3f-ba2a-6921afd05532",
   "metadata": {},
   "outputs": [
    {
     "data": {
      "text/plain": [
       "array(['Anhui', 'Beijing', 'Chongqing', 'Fujian', 'Gansu', 'Guangdong',\n",
       "       'Guangxi', 'Guizhou', 'Hainan', 'Hebei', 'Heilongjiang', 'Henan',\n",
       "       'Hong Kong', 'Hubei', 'Hunan', 'Inner Mongolia', 'Jiangsu',\n",
       "       'Jiangxi', 'Jilin', 'Liaoning', 'Macau', 'Ningxia', 'Qinghai',\n",
       "       'Shaanxi', 'Shandong', 'Shanghai', 'Shanxi', 'Sichuan', 'Tianjin',\n",
       "       'Tibet', 'Unknown', 'Xinjiang', 'Yunnan', 'Zhejiang'], dtype=object)"
      ]
     },
     "execution_count": 27,
     "metadata": {},
     "output_type": "execute_result"
    }
   ],
   "source": [
    "data_ch.province.unique()"
   ]
  },
  {
   "cell_type": "code",
   "execution_count": 28,
   "id": "5df72d2f-4b59-4099-beca-b504638a2e74",
   "metadata": {},
   "outputs": [
    {
     "data": {
      "text/plain": [
       "(27744, 6)"
      ]
     },
     "execution_count": 28,
     "metadata": {},
     "output_type": "execute_result"
    }
   ],
   "source": [
    "data_ch.shape"
   ]
  },
  {
   "cell_type": "code",
   "execution_count": 29,
   "id": "632bcf0d-4d83-417c-990b-c813b200e9fa",
   "metadata": {},
   "outputs": [
    {
     "data": {
      "text/plain": [
       "province\n",
       "Anhui             816\n",
       "Beijing           816\n",
       "Chongqing         816\n",
       "Fujian            816\n",
       "Gansu             816\n",
       "Guangdong         816\n",
       "Guangxi           816\n",
       "Guizhou           816\n",
       "Hainan            816\n",
       "Hebei             816\n",
       "Heilongjiang      816\n",
       "Henan             816\n",
       "Hong Kong         816\n",
       "Hubei             816\n",
       "Hunan             816\n",
       "Inner Mongolia    816\n",
       "Jiangsu           816\n",
       "Jiangxi           816\n",
       "Jilin             816\n",
       "Liaoning          816\n",
       "Macau             816\n",
       "Ningxia           816\n",
       "Qinghai           816\n",
       "Shaanxi           816\n",
       "Shandong          816\n",
       "Shanghai          816\n",
       "Shanxi            816\n",
       "Sichuan           816\n",
       "Tianjin           816\n",
       "Tibet             816\n",
       "Unknown           816\n",
       "Xinjiang          816\n",
       "Yunnan            816\n",
       "Zhejiang          816\n",
       "Name: country, dtype: int64"
      ]
     },
     "execution_count": 29,
     "metadata": {},
     "output_type": "execute_result"
    }
   ],
   "source": [
    "data_ch.groupby(\"province\").country.count()"
   ]
  },
  {
   "cell_type": "code",
   "execution_count": 30,
   "id": "d4e034c5-4512-48a3-b2fb-239d47cf3cba",
   "metadata": {},
   "outputs": [
    {
     "name": "stdout",
     "output_type": "stream",
     "text": [
      "<class 'pandas.core.frame.DataFrame'>\n",
      "Index: 27744 entries, 6528 to 34271\n",
      "Data columns (total 6 columns):\n",
      " #   Column     Non-Null Count  Dtype         \n",
      "---  ------     --------------  -----         \n",
      " 0   Date       27744 non-null  datetime64[ns]\n",
      " 1   country    27744 non-null  object        \n",
      " 2   province   27744 non-null  object        \n",
      " 3   Confirmed  27744 non-null  int64         \n",
      " 4   Recovered  27744 non-null  float64       \n",
      " 5   Deaths     27744 non-null  int64         \n",
      "dtypes: datetime64[ns](1), float64(1), int64(2), object(2)\n",
      "memory usage: 1.5+ MB\n"
     ]
    }
   ],
   "source": [
    "data_ch.info()"
   ]
  },
  {
   "cell_type": "code",
   "execution_count": 31,
   "id": "a2fdba11-3610-48d2-9762-021bce027f3d",
   "metadata": {},
   "outputs": [
    {
     "data": {
      "text/plain": [
       "Timestamp('2020-01-22 00:00:00')"
      ]
     },
     "execution_count": 31,
     "metadata": {},
     "output_type": "execute_result"
    }
   ],
   "source": [
    "data_ch.Date.min()"
   ]
  },
  {
   "cell_type": "code",
   "execution_count": 32,
   "id": "007f86c8-76de-419c-a1d9-e72e80483d0e",
   "metadata": {},
   "outputs": [
    {
     "data": {
      "text/plain": [
       "Timestamp('2022-04-16 00:00:00')"
      ]
     },
     "execution_count": 32,
     "metadata": {},
     "output_type": "execute_result"
    }
   ],
   "source": [
    "data_ch.Date.max()"
   ]
  },
  {
   "cell_type": "code",
   "execution_count": 33,
   "id": "5c70255c-219c-4f5d-90fd-22136bbae908",
   "metadata": {},
   "outputs": [
    {
     "data": {
      "text/plain": [
       "0"
      ]
     },
     "execution_count": 33,
     "metadata": {},
     "output_type": "execute_result"
    }
   ],
   "source": [
    "len(dataset.query(\"province == 'Unknown'\"))"
   ]
  },
  {
   "cell_type": "code",
   "execution_count": 34,
   "id": "cea27c11-c099-48cb-b830-747f8e3d44d6",
   "metadata": {},
   "outputs": [
    {
     "data": {
      "text/html": [
       "<div>\n",
       "<style scoped>\n",
       "    .dataframe tbody tr th:only-of-type {\n",
       "        vertical-align: middle;\n",
       "    }\n",
       "\n",
       "    .dataframe tbody tr th {\n",
       "        vertical-align: top;\n",
       "    }\n",
       "\n",
       "    .dataframe thead th {\n",
       "        text-align: right;\n",
       "    }\n",
       "</style>\n",
       "<table border=\"1\" class=\"dataframe\">\n",
       "  <thead>\n",
       "    <tr style=\"text-align: right;\">\n",
       "      <th></th>\n",
       "      <th>index</th>\n",
       "      <th>Date</th>\n",
       "      <th>country</th>\n",
       "      <th>province</th>\n",
       "      <th>Confirmed</th>\n",
       "      <th>Recovered</th>\n",
       "      <th>Deaths</th>\n",
       "    </tr>\n",
       "  </thead>\n",
       "  <tbody>\n",
       "    <tr>\n",
       "      <th>0</th>\n",
       "      <td>0</td>\n",
       "      <td>2020-01-22</td>\n",
       "      <td>Australia</td>\n",
       "      <td>Australian Capital Territory</td>\n",
       "      <td>0</td>\n",
       "      <td>0.0</td>\n",
       "      <td>0</td>\n",
       "    </tr>\n",
       "    <tr>\n",
       "      <th>1</th>\n",
       "      <td>1</td>\n",
       "      <td>2020-01-23</td>\n",
       "      <td>Australia</td>\n",
       "      <td>Australian Capital Territory</td>\n",
       "      <td>0</td>\n",
       "      <td>0.0</td>\n",
       "      <td>0</td>\n",
       "    </tr>\n",
       "    <tr>\n",
       "      <th>2</th>\n",
       "      <td>2</td>\n",
       "      <td>2020-01-24</td>\n",
       "      <td>Australia</td>\n",
       "      <td>Australian Capital Territory</td>\n",
       "      <td>0</td>\n",
       "      <td>0.0</td>\n",
       "      <td>0</td>\n",
       "    </tr>\n",
       "    <tr>\n",
       "      <th>3</th>\n",
       "      <td>3</td>\n",
       "      <td>2020-01-25</td>\n",
       "      <td>Australia</td>\n",
       "      <td>Australian Capital Territory</td>\n",
       "      <td>0</td>\n",
       "      <td>0.0</td>\n",
       "      <td>0</td>\n",
       "    </tr>\n",
       "    <tr>\n",
       "      <th>4</th>\n",
       "      <td>4</td>\n",
       "      <td>2020-01-26</td>\n",
       "      <td>Australia</td>\n",
       "      <td>Australian Capital Territory</td>\n",
       "      <td>0</td>\n",
       "      <td>0.0</td>\n",
       "      <td>0</td>\n",
       "    </tr>\n",
       "    <tr>\n",
       "      <th>...</th>\n",
       "      <td>...</td>\n",
       "      <td>...</td>\n",
       "      <td>...</td>\n",
       "      <td>...</td>\n",
       "      <td>...</td>\n",
       "      <td>...</td>\n",
       "      <td>...</td>\n",
       "    </tr>\n",
       "    <tr>\n",
       "      <th>58747</th>\n",
       "      <td>59563</td>\n",
       "      <td>2022-04-12</td>\n",
       "      <td>United Kingdom</td>\n",
       "      <td>Turks and Caicos Islands</td>\n",
       "      <td>5923</td>\n",
       "      <td>0.0</td>\n",
       "      <td>36</td>\n",
       "    </tr>\n",
       "    <tr>\n",
       "      <th>58748</th>\n",
       "      <td>59564</td>\n",
       "      <td>2022-04-13</td>\n",
       "      <td>United Kingdom</td>\n",
       "      <td>Turks and Caicos Islands</td>\n",
       "      <td>5936</td>\n",
       "      <td>0.0</td>\n",
       "      <td>36</td>\n",
       "    </tr>\n",
       "    <tr>\n",
       "      <th>58749</th>\n",
       "      <td>59565</td>\n",
       "      <td>2022-04-14</td>\n",
       "      <td>United Kingdom</td>\n",
       "      <td>Turks and Caicos Islands</td>\n",
       "      <td>5936</td>\n",
       "      <td>0.0</td>\n",
       "      <td>36</td>\n",
       "    </tr>\n",
       "    <tr>\n",
       "      <th>58750</th>\n",
       "      <td>59566</td>\n",
       "      <td>2022-04-15</td>\n",
       "      <td>United Kingdom</td>\n",
       "      <td>Turks and Caicos Islands</td>\n",
       "      <td>5936</td>\n",
       "      <td>0.0</td>\n",
       "      <td>36</td>\n",
       "    </tr>\n",
       "    <tr>\n",
       "      <th>58751</th>\n",
       "      <td>59567</td>\n",
       "      <td>2022-04-16</td>\n",
       "      <td>United Kingdom</td>\n",
       "      <td>Turks and Caicos Islands</td>\n",
       "      <td>5936</td>\n",
       "      <td>0.0</td>\n",
       "      <td>36</td>\n",
       "    </tr>\n",
       "  </tbody>\n",
       "</table>\n",
       "<p>58752 rows × 7 columns</p>\n",
       "</div>"
      ],
      "text/plain": [
       "       index       Date         country                      province  \\\n",
       "0          0 2020-01-22       Australia  Australian Capital Territory   \n",
       "1          1 2020-01-23       Australia  Australian Capital Territory   \n",
       "2          2 2020-01-24       Australia  Australian Capital Territory   \n",
       "3          3 2020-01-25       Australia  Australian Capital Territory   \n",
       "4          4 2020-01-26       Australia  Australian Capital Territory   \n",
       "...      ...        ...             ...                           ...   \n",
       "58747  59563 2022-04-12  United Kingdom      Turks and Caicos Islands   \n",
       "58748  59564 2022-04-13  United Kingdom      Turks and Caicos Islands   \n",
       "58749  59565 2022-04-14  United Kingdom      Turks and Caicos Islands   \n",
       "58750  59566 2022-04-15  United Kingdom      Turks and Caicos Islands   \n",
       "58751  59567 2022-04-16  United Kingdom      Turks and Caicos Islands   \n",
       "\n",
       "       Confirmed  Recovered  Deaths  \n",
       "0              0        0.0       0  \n",
       "1              0        0.0       0  \n",
       "2              0        0.0       0  \n",
       "3              0        0.0       0  \n",
       "4              0        0.0       0  \n",
       "...          ...        ...     ...  \n",
       "58747       5923        0.0      36  \n",
       "58748       5936        0.0      36  \n",
       "58749       5936        0.0      36  \n",
       "58750       5936        0.0      36  \n",
       "58751       5936        0.0      36  \n",
       "\n",
       "[58752 rows x 7 columns]"
      ]
     },
     "execution_count": 34,
     "metadata": {},
     "output_type": "execute_result"
    }
   ],
   "source": [
    "dataset.reset_index()"
   ]
  },
  {
   "cell_type": "code",
   "execution_count": 35,
   "id": "e6d6ac73-dd9c-4fb0-bdac-8be5e87d481f",
   "metadata": {},
   "outputs": [],
   "source": [
    "dataset.to_csv(\"dataset/dataset.csv\", index=False)"
   ]
  }
 ],
 "metadata": {
  "kernelspec": {
   "display_name": "covid",
   "language": "python",
   "name": "covid"
  },
  "language_info": {
   "codemirror_mode": {
    "name": "ipython",
    "version": 3
   },
   "file_extension": ".py",
   "mimetype": "text/x-python",
   "name": "python",
   "nbconvert_exporter": "python",
   "pygments_lexer": "ipython3",
   "version": "3.12.3"
  }
 },
 "nbformat": 4,
 "nbformat_minor": 5
}
